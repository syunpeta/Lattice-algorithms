{
 "cells": [
  {
   "cell_type": "code",
   "execution_count": 20,
   "id": "a67b5d37",
   "metadata": {},
   "outputs": [
    {
     "name": "stdout",
     "output_type": "stream",
     "text": [
      "(14943.000000000002, 14793.570000000002, 1)(10073.742755805393, 14793.570000000002, 2)(10133.0, 14793.570000000002, 1)"
     ]
    },
    {
     "data": {
      "text/plain": [
       "5-element Vector{Int64}:\n",
       " 0\n",
       " 1\n",
       " 0\n",
       " 0\n",
       " 0"
      ]
     },
     "execution_count": 20,
     "metadata": {},
     "output_type": "execute_result"
    }
   ],
   "source": [
    "using LinearAlgebra\n",
    "\n",
    "function GSO(B::Matrix{Int64}, N::Int64)::Tuple{Matrix{Float64},Matrix{Float64}}\n",
    "    B_p = zeros(Float64,size(B))\n",
    "    mu = zeros(Float64,(N,N))\n",
    "    for i in 1:N\n",
    "        B_p[i,:] = B[i,:]\n",
    "        mu[i,i] = 1\n",
    "        for j in 1:i-1\n",
    "            mu[i,j] = B[i,:]⋅B_p[j,:]/norm(B_p[j,:])^2\n",
    "            B_p[i,:] -= mu[i,j]*B_p[j,:]\n",
    "        end\n",
    "    end\n",
    "    return B_p,mu\n",
    "end\n",
    "\n",
    "function ENUM(B::Matrix{Int64},R::Float64)\n",
    "    N,_ = size(B)\n",
    "    B_p,mu =GSO(B,N) \n",
    "    norm_Bp = zeros(Float64,N)\n",
    "    for i in 1:N\n",
    "        norm_Bp[i] = norm(B_p[i,:])^2\n",
    "    end\n",
    "   \n",
    "    sigma = zeros(Float64,(N+1,N))\n",
    "    r = [i for i in 0:N]\n",
    "    rho = zeros(Float64,N+1)\n",
    "    v = zeros(Int64,N);v[1] = 1\n",
    "    c = zeros(Float64,N)\n",
    "    w = zeros(Int64,N)\n",
    "    last_nonzero = 1\n",
    "    k = 1\n",
    "    while true\n",
    "        rho[k] = rho[k+1] + ((v[k] - c[k])^2) * norm_Bp[k]\n",
    "        print((rho[k],R,k))\n",
    "        if rho[k] <= R\n",
    "            if k == 1\n",
    "                return v\n",
    "            else\n",
    "                k-=1\n",
    "                r[k] = max(r[k],r[k+1])\n",
    "                for i in r[k+1]:-1:k+1\n",
    "                    sigma[i,k] = sigma[i+1,k] + mu[i,k]*v[i]\n",
    "                end\n",
    "                c[k] = -sigma[k+1,k]\n",
    "                v[k] = round(c[k])\n",
    "                w[k] = 1\n",
    "            end\n",
    "        else\n",
    "            k+=1\n",
    "            if k == (N+1)\n",
    "                return false\n",
    "            end\n",
    "            r[k] = k\n",
    "            if k >= last_nonzero\n",
    "                last_nonzero = k\n",
    "                v[k]+=1\n",
    "            else\n",
    "                if v[k] > c[k]\n",
    "                    v[k] -= w[k]\n",
    "                else\n",
    "                    v[k] += w[k]\n",
    "                end\n",
    "                w[k] += 1\n",
    "            end\n",
    "        end\n",
    "    end\n",
    "    return v\n",
    "end\n",
    "\n",
    "                \n",
    "            \n",
    "BB = [63 -14 -1 84 61;74 -20 23 -32 -52;93 -46 -19 0 -63;93 11 13 60 52;33 -93 12 57 -2]\n",
    "R = 0.99 * norm(BB[1,:])^2\n",
    "\n",
    "ENUM(BB,R)\n",
    "\n"
   ]
  },
  {
   "cell_type": "code",
   "execution_count": 16,
   "id": "a0b7d75b",
   "metadata": {},
   "outputs": [
    {
     "data": {
      "text/plain": [
       "Vector{Float64}\u001b[90m (alias for \u001b[39m\u001b[90mArray{Float64, 1}\u001b[39m\u001b[90m)\u001b[39m"
      ]
     },
     "execution_count": 16,
     "metadata": {},
     "output_type": "execute_result"
    }
   ],
   "source": [
    "typeof(zeros(Float64,N))"
   ]
  },
  {
   "cell_type": "code",
   "execution_count": null,
   "id": "ed0ed7bb",
   "metadata": {},
   "outputs": [],
   "source": []
  }
 ],
 "metadata": {
  "kernelspec": {
   "display_name": "Julia 1.8.3",
   "language": "julia",
   "name": "julia-1.8"
  },
  "language_info": {
   "file_extension": ".jl",
   "mimetype": "application/julia",
   "name": "julia",
   "version": "1.8.3"
  }
 },
 "nbformat": 4,
 "nbformat_minor": 5
}
