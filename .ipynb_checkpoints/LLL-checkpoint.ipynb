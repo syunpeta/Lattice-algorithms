{
 "cells": [
  {
   "cell_type": "code",
   "execution_count": 4,
   "id": "150ee19e",
   "metadata": {},
   "outputs": [
    {
     "data": {
      "text/plain": [
       "3×3 Matrix{Int64}:\n",
       " -1   4  -6\n",
       "  2   6   0\n",
       "  3  -2  -5"
      ]
     },
     "execution_count": 4,
     "metadata": {},
     "output_type": "execute_result"
    }
   ],
   "source": [
    "using LinearAlgebra\n",
    "\n",
    "function GSO(B::Matrix{Int64}, N::Int64)::Tuple{Matrix{Float64},Matrix{Float64}}\n",
    "    B_p = zeros(Float64,size(B))\n",
    "    mu = zeros(Float64,(N,N))\n",
    "    for i in 1:N\n",
    "        B_p[i,:] = B[i,:]\n",
    "        mu[i,i] = 1\n",
    "        for j in 1:i-1\n",
    "            mu[i,j] = B[i,:]⋅B_p[j,:]/norm(B_p[j,:])^2\n",
    "            B_p[i,:] -= mu[i,j]*B_p[j,:]\n",
    "        end\n",
    "    end\n",
    "    return B_p,mu\n",
    "end\n",
    "\n",
    "function part_Size_reduce(B::Matrix{Int64},mu::Matrix{Float64},i::Int64,j::Int64)::Tuple{Matrix{Int64},Matrix{Float64}}\n",
    "    if abs(mu[i,j]) > 0.50\n",
    "        q = round(mu[i,j])\n",
    "        B[i,:] =B[i,:] -  q*B[j,:]\n",
    "        for l in 1:j\n",
    "            mu[i,l] = mu[i,l] -  q*mu[j,l]\n",
    "        end\n",
    "    end\n",
    "    return B,mu\n",
    "end\n",
    "\n",
    "function(GSOUp_LLL(mu::Matrix{Float64},norm_Bp::Array{Float64},k::Int64,N::Int64))::Tuple{Matrix{Float64},Array{Float64}}\n",
    "    nu = mu[k,k-1]\n",
    "    beta = norm_Bp[k] + (nu^2)*norm_Bp[k-1]\n",
    "    mu[k,k-1] = nu*norm_Bp[k-1]/beta\n",
    "    norm_Bp[k] = norm_Bp[k]*norm_Bp[k-1]/beta\n",
    "    norm_Bp[k-1] = beta\n",
    "    for j in 1:(k-2)\n",
    "        mu[k-1,j],mu[k,j] = mu[k,j],mu[k-1,j]\n",
    "    end\n",
    "    for i in (k+1):N\n",
    "        t = mu[i,k]\n",
    "        mu[i,k] = mu[i,k-1] - nu*t\n",
    "        mu[i,k-1] = t + mu[k,k-1]*mu[i,k]\n",
    "    end\n",
    "    return mu,norm_Bp\n",
    "end\n",
    "    \n",
    "function LLL(B::Matrix{Int64},delta::Float64)::Matrix{Int64}\n",
    "    N,_ = size(B)\n",
    "    B_p,mu = GSO(B,N)\n",
    "    norm_Bp = zeros(Float64,N)\n",
    "    for i in 1:N\n",
    "        norm_Bp[i] = norm(B_p[i,:])^2\n",
    "    end\n",
    "    k = 2\n",
    "    \n",
    "    while k <= N\n",
    "        for j in (k-1):-1:1\n",
    "            B,mu = part_Size_reduce(B,mu,k,j)\n",
    "        end\n",
    "        if norm_Bp[k] >= (delta - mu[k,k-1]^2)*norm_Bp[k-1]\n",
    "            k = k+1\n",
    "        else\n",
    "            B[k-1,:],B[k,:] = B[k,:],B[k-1,:]\n",
    "            mu,norm_Bp = GSOUp_LLL(mu,norm_Bp,k,N)\n",
    "            k = max(k-1,2)\n",
    "        end\n",
    "    end\n",
    "    return B\n",
    "end\n",
    "\n",
    "\n",
    "BB = [9 2 7;8 6 1;3 2 6]\n",
    "LLL(BB,0.75)"
   ]
  },
  {
   "cell_type": "code",
   "execution_count": null,
   "id": "6fdb674a",
   "metadata": {},
   "outputs": [],
   "source": []
  }
 ],
 "metadata": {
  "kernelspec": {
   "display_name": "Julia 1.8.3",
   "language": "julia",
   "name": "julia-1.8"
  },
  "language_info": {
   "file_extension": ".jl",
   "mimetype": "application/julia",
   "name": "julia",
   "version": "1.8.3"
  }
 },
 "nbformat": 4,
 "nbformat_minor": 5
}
