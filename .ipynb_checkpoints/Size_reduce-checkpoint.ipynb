{
 "cells": [
  {
   "cell_type": "code",
   "execution_count": 3,
   "id": "bf5661ac",
   "metadata": {},
   "outputs": [
    {
     "data": {
      "text/plain": [
       "([5 -3 -7; -3 -4 0; 1 -3 7], [1.0 0.0 0.0; -0.03614457831325302 1.0 0.0; -0.42168674698795183 0.310745401742498 1.0])"
      ]
     },
     "execution_count": 3,
     "metadata": {},
     "output_type": "execute_result"
    }
   ],
   "source": [
    "using LinearAlgebra\n",
    "\n",
    "function GSO(B::Matrix{Int64}, N::Int64)::Tuple{Matrix{Float64},Matrix{Float64}}\n",
    "    B_p = zeros(Float64,size(B))\n",
    "    mu = zeros(Float64,(N,N))\n",
    "    for i in 1:N\n",
    "        B_p[i,:] = B[i,:]\n",
    "        mu[i,i] = 1\n",
    "        for j in 1:i-1\n",
    "            mu[i,j] = B[i,:]⋅B_p[j,:]/norm(B_p[j,:])^2\n",
    "            B_p[i,:] -= mu[i,j]*B_p[j,:]\n",
    "        end\n",
    "    end\n",
    "    return B_p,mu\n",
    "end\n",
    "\n",
    "function part_Size_reduce(B::Matrix{Int64},mu::Matrix{Float64},i::Int64,j::Int64)::Tuple{Matrix{Int64},Matrix{Float64}}\n",
    "    if abs(mu[i,j]) > 0.50\n",
    "        q = round(mu[i,j])\n",
    "        B[i,:] =B[i,:] -  q*B[j,:]\n",
    "        for l in 1:j\n",
    "            mu[i,l] = mu[i,l] -  q*mu[j,l]\n",
    "        end\n",
    "    end\n",
    "    return B,mu\n",
    "end\n",
    "\n",
    "function Size_reduce(B::Matrix{Int64})::Tuple{Matrix{Int64},Matrix{Float64}}\n",
    "    N,_ = size(B)\n",
    "    B_p,mu = GSO(B,N)\n",
    "    for i in 2:N\n",
    "        for j in i-1:-1:1\n",
    "            part_Size_reduce(B,mu,i,j)\n",
    "        end\n",
    "    end\n",
    "    return B,mu\n",
    "end\n",
    "\n",
    "BB = [5 -3 -7;2 -7 -7;3 -10 0]\n",
    "Size_reduce(BB)"
   ]
  },
  {
   "cell_type": "code",
   "execution_count": null,
   "id": "062cd93d",
   "metadata": {},
   "outputs": [],
   "source": []
  }
 ],
 "metadata": {
  "kernelspec": {
   "display_name": "Julia 1.8.3",
   "language": "julia",
   "name": "julia-1.8"
  },
  "language_info": {
   "file_extension": ".jl",
   "mimetype": "application/julia",
   "name": "julia",
   "version": "1.8.3"
  }
 },
 "nbformat": 4,
 "nbformat_minor": 5
}
