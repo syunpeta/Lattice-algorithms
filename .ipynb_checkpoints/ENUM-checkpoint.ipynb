{
 "cells": [
  {
   "cell_type": "code",
   "execution_count": 10,
   "id": "a67b5d37",
   "metadata": {},
   "outputs": [
    {
     "data": {
      "text/plain": [
       "ENUM (generic function with 2 methods)"
      ]
     },
     "execution_count": 10,
     "metadata": {},
     "output_type": "execute_result"
    }
   ],
   "source": [
    "using LinearAlgebra\n",
    "\n",
    "function ENUM(mu::Matrix{Float64},norm_Bp::Array{Float64},R::Float64)\n",
    "    N,_ = size(mu)\n",
    "    sigma = zeros(Float64,(N+1,N))\n",
    "    r = [i for i in 0:N]\n",
    "    rho = zeros(Float64,N+1)\n",
    "    v = zeros(Int64,N);v[1] = 1\n",
    "    c = zeros(Float64,N)\n",
    "    w = zeros(Int64,N)\n",
    "    last_nonzero = 1\n",
    "    k = 1\n",
    "\n",
    "    \n",
    "    \n",
    "end\n"
   ]
  },
  {
   "cell_type": "code",
   "execution_count": 16,
   "id": "a0b7d75b",
   "metadata": {},
   "outputs": [
    {
     "data": {
      "text/plain": [
       "Vector{Float64}\u001b[90m (alias for \u001b[39m\u001b[90mArray{Float64, 1}\u001b[39m\u001b[90m)\u001b[39m"
      ]
     },
     "execution_count": 16,
     "metadata": {},
     "output_type": "execute_result"
    }
   ],
   "source": [
    "typeof(zeros(Float64,N))"
   ]
  },
  {
   "cell_type": "code",
   "execution_count": null,
   "id": "ed0ed7bb",
   "metadata": {},
   "outputs": [],
   "source": []
  }
 ],
 "metadata": {
  "kernelspec": {
   "display_name": "Julia 1.8.3",
   "language": "julia",
   "name": "julia-1.8"
  },
  "language_info": {
   "file_extension": ".jl",
   "mimetype": "application/julia",
   "name": "julia",
   "version": "1.8.3"
  }
 },
 "nbformat": 4,
 "nbformat_minor": 5
}
